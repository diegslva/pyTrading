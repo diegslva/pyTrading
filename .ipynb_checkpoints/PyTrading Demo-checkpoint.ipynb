{
 "metadata": {
  "name": "",
  "signature": "sha256:e974b671b8a9b345a6858dbf113192528046a95919b59ed9710f93a9ec4ac533"
 },
 "nbformat": 3,
 "nbformat_minor": 0,
 "worksheets": []
}
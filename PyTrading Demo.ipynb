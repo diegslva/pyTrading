{
 "metadata": {
  "name": "",
  "signature": "sha256:6ab716ecdfd56d149aecae74a02682c4b0a916d52c32bef0e316bfb7b215e5c5"
 },
 "nbformat": 3,
 "nbformat_minor": 0,
 "worksheets": [
  {
   "cells": [
    {
     "cell_type": "heading",
     "level": 1,
     "metadata": {},
     "source": [
      "Using PyTrading for Stock Market Strategy Comparison"
     ]
    },
    {
     "cell_type": "markdown",
     "metadata": {},
     "source": [
      "PyTrading is a python package designed to facilitate the creation and testing of automated trading strategies. The main object of the package is the strategy object. There are several strategies to choose from in PyTrading. Lets take a look at the performace of some of them!"
     ]
    },
    {
     "cell_type": "heading",
     "level": 1,
     "metadata": {},
     "source": [
      "Using Strategies"
     ]
    },
    {
     "cell_type": "markdown",
     "metadata": {},
     "source": [
      "The first strategy we will encounter is the buy and hold strategy. It takes in a starting balance, and a list of tickers and will buy equal proportions of the stocks in the tickers on the first day of trading. From this point on the strategy will not sell any of the assets There are several parameters to change the behavior of this strategy inclding weights to priotitize the buying of particular stocks in the portfolio. Strategies can be backtested using the backtest function which returns the percentage gains achieved in equity. One can toggle the starting and ending dates of the backtest function and whether or not the value of equity is calculated before commision with the correct=False flag ."
     ]
    },
    {
     "cell_type": "code",
     "collapsed": false,
     "input": [
      "from Strategies import BuyAndHoldStrategy, backtest\n",
      "\n",
      "tickers = ['AAPL','VZ']\n",
      "bs = BuyAndHoldStrategy(10000, tickers)\n",
      "percent_gains = backtest(bs,start=\"2014-1-1\", end=\"2015-11-02\",correct=False)\n",
      "print('Buy and hold strategy made a %{} return on investment'.format(round(percent_gains,1)) ) "
     ],
     "language": "python",
     "metadata": {},
     "outputs": [
      {
       "output_type": "stream",
       "stream": "stdout",
       "text": [
        "Buy and hold strategy made a %31.1 return on investment\n"
       ]
      }
     ],
     "prompt_number": 4
    },
    {
     "cell_type": "markdown",
     "metadata": {},
     "source": [
      "PyTrading also has a momentum strategy which sells a stock if its price falls below its moving average and buys a stock if its price rises above its moving average. This strategy accepts a similiar portfolio weighting argument and the number of days in the moving average can be set upon creation with the window parameter."
     ]
    },
    {
     "cell_type": "code",
     "collapsed": false,
     "input": [
      "from Strategies import MomentumStrategy\n",
      "\n",
      "ms = MomentumStrategy(10000,tickers,window=50)\n",
      "percent_gains = backtest(ms,start=\"2014-1-1\", end=\"2015-11-02\",correct=False)\n",
      "print('Momentum strategy made a %{} return on investment'.format(round(percent_gains,1)) ) "
     ],
     "language": "python",
     "metadata": {},
     "outputs": [
      {
       "output_type": "stream",
       "stream": "stdout",
       "text": [
        "Momentum strategy made a %0.4 return on investment\n"
       ]
      }
     ],
     "prompt_number": 5
    },
    {
     "cell_type": "markdown",
     "metadata": {},
     "source": [
      "PyTrading Also has an informed buy and hold class which fits a time series estimator to the entire s&p500 and chooses the k best stocks to buy and hold. It must wait a number of days to observe data before it can fit the time series estimator. This strategy can accept any sklearn model (the default is linear regression) and will wait for (default 100) days before it buys and holds the stocks. The envelope is the buy and hold weighting and can be set to uniform, proportional to the projected gains, or proportional to the log of the projected gains."
     ]
    },
    {
     "cell_type": "code",
     "collapsed": false,
     "input": [
      "from Strategies import TSEBuyAndHoldStrategy\n",
      "\n",
      "ts = TSEBuyAndHoldStrategy(10000,k=2,wait=100,envelope='uniform')\n",
      "percent_gains = backtest(ts,start=\"2014-1-1\", end=\"2015-11-02\",correct=False)\n",
      "print('TSE buy and hold  made a %{} return on investment'.format(round(percent_gains,1)) ) "
     ],
     "language": "python",
     "metadata": {},
     "outputs": [
      {
       "output_type": "stream",
       "stream": "stdout",
       "text": [
        "TSE buy and hold  made a %39.0 return on investment\n"
       ]
      }
     ],
     "prompt_number": 7
    },
    {
     "cell_type": "heading",
     "level": 1,
     "metadata": {},
     "source": [
      "Quantifying the Effectiveness of the TSE Buy and Hold Strategy"
     ]
    },
    {
     "cell_type": "markdown",
     "metadata": {},
     "source": [
      "The TSEBuyAndHoldStrategy seems to be a great performer, lets charecterize how good it is by sampling the space of possible buy and hold strategies, and comparing it to the results in that space. We can do this with the buy_and_hold_spread function defined in the strategies file. This function will randomly sample buy and hold strategies from the space of possible buy and hold strategies (the k ticker subsets). It will then calculate the return for each of these strategies and return them as a list."
     ]
    },
    {
     "cell_type": "code",
     "collapsed": false,
     "input": [
      "%matplotlib inline\n",
      "import matplotlib.pyplot as plt\n",
      "import numpy as np\n",
      "from Strategies import buy_and_hold_spread, backtest, TSEBuyAndHoldStrategy\n",
      "from utils import cache\n",
      "\n",
      "@cache('data/buy_and_hold_spreads_cache.pkl')\n",
      "def buy_and_hold_spreads(ks=range(1, 10), wait=100, start=\"2014-1-1\", end=\"2015-11-02\", iterations=300):\n",
      "    return [buy_and_hold_spread(k, wait, start, end, iterations) for k in ks]\n",
      "\n",
      "def tse_results(balance=10000, ks=range(1, 10), wait=100, envelope='uniform', start=\"2014-1-1\", end=\"2015-11-02\"):\n",
      "    strategies = [TSEBuyAndHoldStrategy(balance=balance, k=k, wait=wait, envelope=envelope) for k in ks]\n",
      "    return [backtest(strategy, start=start, end=end, correct=False) for strategy in strategies]\n",
      "\n",
      "ks = range(1,10)\n",
      "bh_spreads = buy_and_hold_spreads(ks=ks)\n",
      "tse_returns = tse_results(ks=ks)\n",
      "\n",
      "probs = [sum(1 if tser > bhr else 0 for bhr in bhs) / float(len(bhs))\n",
      "         for (tser, bhs) in zip(tse_returns, bh_spreads)]\n",
      "\n",
      "plt.subplot(1, 2, 1)\n",
      "plt.plot(ks, probs, 'r-')\n",
      "plt.xlabel('k')\n",
      "plt.ylabel('Percentage of Buy And Hold Strategies Beaten')\n",
      "plt.subplot(1, 2, 2)\n",
      "plt.boxplot(bh_spreads)\n",
      "for i, tse_return in enumerate(tse_returns):\n",
      "    x = np.random.normal(i + 1, 0.02, size=len(bh_spreads[i]))\n",
      "    if i == 0:\n",
      "        plt.plot(x, bh_spreads[i], 'bo', alpha=.3, label='BH Gains')\n",
      "        plt.plot(i + 1, tse_return, 'ro', ms=10, label='TSE Gains')\n",
      "    else:\n",
      "        plt.plot(x, bh_spreads[i], 'bo', alpha=.3)\n",
      "        plt.plot(i + 1, tse_return, 'ro', ms=10)\n",
      "plt.xlabel('k')\n",
      "plt.ylabel('Percentage Return')\n",
      "plt.legend()\n",
      "plt.gcf().set_size_inches(15,6)\n",
      "plt.show()"
     ],
     "language": "python",
     "metadata": {},
     "outputs": [
      {
       "ename": "ValueError",
       "evalue": "weights cannot sum to something greater than 1",
       "output_type": "pyerr",
       "traceback": [
        "\u001b[1;31m---------------------------------------------------------------------------\u001b[0m\n\u001b[1;31mValueError\u001b[0m                                Traceback (most recent call last)",
        "\u001b[1;32m<ipython-input-4-be19d9eea402>\u001b[0m in \u001b[0;36m<module>\u001b[1;34m()\u001b[0m\n\u001b[0;32m     15\u001b[0m \u001b[1;33m\u001b[0m\u001b[0m\n\u001b[0;32m     16\u001b[0m \u001b[0mbh_spreads\u001b[0m \u001b[1;33m=\u001b[0m \u001b[0mbuy_and_hold_spreads\u001b[0m\u001b[1;33m(\u001b[0m\u001b[1;33m)\u001b[0m\u001b[1;33m\u001b[0m\u001b[0m\n\u001b[1;32m---> 17\u001b[1;33m \u001b[0mtse_returns\u001b[0m \u001b[1;33m=\u001b[0m \u001b[0mtse_results\u001b[0m\u001b[1;33m(\u001b[0m\u001b[1;33m)\u001b[0m\u001b[1;33m\u001b[0m\u001b[0m\n\u001b[0m\u001b[0;32m     18\u001b[0m \u001b[1;33m\u001b[0m\u001b[0m\n\u001b[0;32m     19\u001b[0m probs = [sum(1 if tser > bhr else 0 for bhr in bhs) / float(len(bhs))\n",
        "\u001b[1;32m<ipython-input-4-be19d9eea402>\u001b[0m in \u001b[0;36mtse_results\u001b[1;34m(balance, ks, wait, envelope, start, end)\u001b[0m\n\u001b[0;32m     11\u001b[0m \u001b[1;32mdef\u001b[0m \u001b[0mtse_results\u001b[0m\u001b[1;33m(\u001b[0m\u001b[0mbalance\u001b[0m\u001b[1;33m=\u001b[0m\u001b[1;36m10000\u001b[0m\u001b[1;33m,\u001b[0m \u001b[0mks\u001b[0m\u001b[1;33m=\u001b[0m\u001b[0mrange\u001b[0m\u001b[1;33m(\u001b[0m\u001b[1;36m1\u001b[0m\u001b[1;33m,\u001b[0m \u001b[1;36m10\u001b[0m\u001b[1;33m)\u001b[0m\u001b[1;33m,\u001b[0m \u001b[0mwait\u001b[0m\u001b[1;33m=\u001b[0m\u001b[1;36m100\u001b[0m\u001b[1;33m,\u001b[0m \u001b[0menvelope\u001b[0m\u001b[1;33m=\u001b[0m\u001b[1;34m'uniform'\u001b[0m\u001b[1;33m,\u001b[0m \u001b[0mstart\u001b[0m\u001b[1;33m=\u001b[0m\u001b[1;34m\"2014-1-1\"\u001b[0m\u001b[1;33m,\u001b[0m \u001b[0mend\u001b[0m\u001b[1;33m=\u001b[0m\u001b[1;34m\"2015-11-02\"\u001b[0m\u001b[1;33m)\u001b[0m\u001b[1;33m:\u001b[0m\u001b[1;33m\u001b[0m\u001b[0m\n\u001b[0;32m     12\u001b[0m     \u001b[0mstrategies\u001b[0m \u001b[1;33m=\u001b[0m \u001b[1;33m[\u001b[0m\u001b[0mTSEBuyAndHoldStrategy\u001b[0m\u001b[1;33m(\u001b[0m\u001b[0mbalance\u001b[0m\u001b[1;33m=\u001b[0m\u001b[0mbalance\u001b[0m\u001b[1;33m,\u001b[0m \u001b[0mk\u001b[0m\u001b[1;33m=\u001b[0m\u001b[0mk\u001b[0m\u001b[1;33m,\u001b[0m \u001b[0mwait\u001b[0m\u001b[1;33m=\u001b[0m\u001b[0mwait\u001b[0m\u001b[1;33m,\u001b[0m \u001b[0menvelope\u001b[0m\u001b[1;33m=\u001b[0m\u001b[0menvelope\u001b[0m\u001b[1;33m)\u001b[0m \u001b[1;32mfor\u001b[0m \u001b[0mk\u001b[0m \u001b[1;32min\u001b[0m \u001b[0mks\u001b[0m\u001b[1;33m]\u001b[0m\u001b[1;33m\u001b[0m\u001b[0m\n\u001b[1;32m---> 13\u001b[1;33m     \u001b[1;32mreturn\u001b[0m \u001b[1;33m[\u001b[0m\u001b[0mbacktest\u001b[0m\u001b[1;33m(\u001b[0m\u001b[0mstrategy\u001b[0m\u001b[1;33m,\u001b[0m \u001b[0mstart\u001b[0m\u001b[1;33m=\u001b[0m\u001b[0mstart\u001b[0m\u001b[1;33m,\u001b[0m \u001b[0mend\u001b[0m\u001b[1;33m=\u001b[0m\u001b[0mend\u001b[0m\u001b[1;33m,\u001b[0m \u001b[0mcorrect\u001b[0m\u001b[1;33m=\u001b[0m\u001b[0mFalse\u001b[0m\u001b[1;33m)\u001b[0m \u001b[1;32mfor\u001b[0m \u001b[0mstrategy\u001b[0m \u001b[1;32min\u001b[0m \u001b[0mstrategies\u001b[0m\u001b[1;33m]\u001b[0m\u001b[1;33m\u001b[0m\u001b[0m\n\u001b[0m\u001b[0;32m     14\u001b[0m \u001b[1;33m\u001b[0m\u001b[0m\n\u001b[0;32m     15\u001b[0m \u001b[1;33m\u001b[0m\u001b[0m\n",
        "\u001b[1;32mC:\\Users\\Mark\\Documents\\sr year\\automated decisions\\hw3\\stock_sandbox\\Strategies.pyc\u001b[0m in \u001b[0;36mbacktest\u001b[1;34m(strategy, start, end, log, correct)\u001b[0m\n\u001b[0;32m    261\u001b[0m         \u001b[0mstrategy\u001b[0m\u001b[1;33m.\u001b[0m\u001b[0m_log\u001b[0m \u001b[1;33m=\u001b[0m \u001b[0mTrue\u001b[0m\u001b[1;33m\u001b[0m\u001b[0m\n\u001b[0;32m    262\u001b[0m     \u001b[0mstarting_balance\u001b[0m \u001b[1;33m=\u001b[0m \u001b[0mstrategy\u001b[0m\u001b[1;33m.\u001b[0m\u001b[0mportfolio\u001b[0m\u001b[1;33m.\u001b[0m\u001b[0mbalance\u001b[0m\u001b[1;33m\u001b[0m\u001b[0m\n\u001b[1;32m--> 263\u001b[1;33m     \u001b[0mstrategy\u001b[0m\u001b[1;33m.\u001b[0m\u001b[0mrun\u001b[0m\u001b[1;33m(\u001b[0m\u001b[0mdf\u001b[0m\u001b[1;33m)\u001b[0m\u001b[1;33m\u001b[0m\u001b[0m\n\u001b[0m\u001b[0;32m    264\u001b[0m     \u001b[0mending_value\u001b[0m \u001b[1;33m=\u001b[0m \u001b[0mstrategy\u001b[0m\u001b[1;33m.\u001b[0m\u001b[0mvalue\u001b[0m\u001b[1;33m(\u001b[0m\u001b[0mcorrect\u001b[0m\u001b[1;33m=\u001b[0m\u001b[0mcorrect\u001b[0m\u001b[1;33m)\u001b[0m\u001b[1;33m\u001b[0m\u001b[0m\n\u001b[0;32m    265\u001b[0m     \u001b[1;32mif\u001b[0m \u001b[0mlog\u001b[0m\u001b[1;33m:\u001b[0m\u001b[1;33m\u001b[0m\u001b[0m\n",
        "\u001b[1;32mC:\\Users\\Mark\\Documents\\sr year\\automated decisions\\hw3\\stock_sandbox\\Strategies.pyc\u001b[0m in \u001b[0;36mrun\u001b[1;34m(self, data_stream)\u001b[0m\n\u001b[0;32m     20\u001b[0m             \u001b[0mself\u001b[0m\u001b[1;33m.\u001b[0m\u001b[0m_today_data\u001b[0m \u001b[1;33m=\u001b[0m \u001b[0mdata_stream\u001b[0m\u001b[1;33m.\u001b[0m\u001b[0miloc\u001b[0m\u001b[1;33m[\u001b[0m\u001b[1;33m:\u001b[0m\u001b[1;33m,\u001b[0m \u001b[0mi\u001b[0m\u001b[1;33m,\u001b[0m \u001b[1;33m:\u001b[0m\u001b[1;33m]\u001b[0m\u001b[1;33m\u001b[0m\u001b[0m\n\u001b[0;32m     21\u001b[0m             \u001b[0mself\u001b[0m\u001b[1;33m.\u001b[0m\u001b[0mobserve_datum\u001b[0m\u001b[1;33m(\u001b[0m\u001b[0mdata_stream\u001b[0m\u001b[1;33m.\u001b[0m\u001b[0miloc\u001b[0m\u001b[1;33m[\u001b[0m\u001b[1;33m:\u001b[0m\u001b[1;33m,\u001b[0m \u001b[0mi\u001b[0m\u001b[1;33m,\u001b[0m \u001b[1;33m:\u001b[0m\u001b[1;33m]\u001b[0m\u001b[1;33m)\u001b[0m\u001b[1;33m\u001b[0m\u001b[0m\n\u001b[1;32m---> 22\u001b[1;33m             \u001b[0mself\u001b[0m\u001b[1;33m.\u001b[0m\u001b[0mact\u001b[0m\u001b[1;33m(\u001b[0m\u001b[1;33m)\u001b[0m\u001b[1;33m\u001b[0m\u001b[0m\n\u001b[0m\u001b[0;32m     23\u001b[0m             \u001b[0mself\u001b[0m\u001b[1;33m.\u001b[0m\u001b[0mday\u001b[0m \u001b[1;33m+=\u001b[0m \u001b[1;36m1\u001b[0m\u001b[1;33m\u001b[0m\u001b[0m\n\u001b[0;32m     24\u001b[0m \u001b[1;33m\u001b[0m\u001b[0m\n",
        "\u001b[1;32mC:\\Users\\Mark\\Documents\\sr year\\automated decisions\\hw3\\stock_sandbox\\Strategies.pyc\u001b[0m in \u001b[0;36mact\u001b[1;34m(self)\u001b[0m\n\u001b[0;32m    181\u001b[0m         \u001b[1;32mif\u001b[0m \u001b[0mself\u001b[0m\u001b[1;33m.\u001b[0m\u001b[0mwait\u001b[0m \u001b[1;33m==\u001b[0m \u001b[0mself\u001b[0m\u001b[1;33m.\u001b[0m\u001b[0mday\u001b[0m\u001b[1;33m:\u001b[0m\u001b[1;33m\u001b[0m\u001b[0m\n\u001b[0;32m    182\u001b[0m             \u001b[0mtickers\u001b[0m\u001b[1;33m,\u001b[0m \u001b[0mweights\u001b[0m \u001b[1;33m=\u001b[0m \u001b[0mself\u001b[0m\u001b[1;33m.\u001b[0m\u001b[0mchoose_stocks\u001b[0m\u001b[1;33m(\u001b[0m\u001b[1;33m)\u001b[0m\u001b[1;33m\u001b[0m\u001b[0m\n\u001b[1;32m--> 183\u001b[1;33m             \u001b[0mself\u001b[0m\u001b[1;33m.\u001b[0m\u001b[0mbatch_buy\u001b[0m\u001b[1;33m(\u001b[0m\u001b[0mtickers\u001b[0m\u001b[1;33m,\u001b[0m \u001b[0mweights\u001b[0m\u001b[1;33m)\u001b[0m\u001b[1;33m\u001b[0m\u001b[0m\n\u001b[0m\u001b[0;32m    184\u001b[0m \u001b[1;33m\u001b[0m\u001b[0m\n\u001b[0;32m    185\u001b[0m     \u001b[1;32mdef\u001b[0m \u001b[0mchoose_stocks\u001b[0m\u001b[1;33m(\u001b[0m\u001b[0mself\u001b[0m\u001b[1;33m)\u001b[0m\u001b[1;33m:\u001b[0m\u001b[1;33m\u001b[0m\u001b[0m\n",
        "\u001b[1;32mC:\\Users\\Mark\\Documents\\sr year\\automated decisions\\hw3\\stock_sandbox\\Strategies.pyc\u001b[0m in \u001b[0;36mbatch_buy\u001b[1;34m(self, tickers, weights)\u001b[0m\n\u001b[0;32m     60\u001b[0m             \u001b[0mweights\u001b[0m \u001b[1;33m=\u001b[0m \u001b[1;33m[\u001b[0m\u001b[0mweights\u001b[0m\u001b[1;33m[\u001b[0m\u001b[0mticker\u001b[0m\u001b[1;33m]\u001b[0m \u001b[1;32mfor\u001b[0m \u001b[0mticker\u001b[0m \u001b[1;32min\u001b[0m \u001b[0mtickers\u001b[0m\u001b[1;33m]\u001b[0m\u001b[1;33m\u001b[0m\u001b[0m\n\u001b[0;32m     61\u001b[0m         \u001b[1;32mif\u001b[0m \u001b[0msum\u001b[0m\u001b[1;33m(\u001b[0m\u001b[0mweights\u001b[0m\u001b[1;33m)\u001b[0m \u001b[1;33m>\u001b[0m \u001b[1;36m1\u001b[0m\u001b[1;33m:\u001b[0m\u001b[1;33m\u001b[0m\u001b[0m\n\u001b[1;32m---> 62\u001b[1;33m             \u001b[1;32mraise\u001b[0m \u001b[0mValueError\u001b[0m\u001b[1;33m(\u001b[0m\u001b[1;34m\"weights cannot sum to something greater than 1\"\u001b[0m\u001b[1;33m)\u001b[0m\u001b[1;33m\u001b[0m\u001b[0m\n\u001b[0m\u001b[0;32m     63\u001b[0m         \u001b[0mself\u001b[0m\u001b[1;33m.\u001b[0m\u001b[0mportfolio\u001b[0m\u001b[1;33m.\u001b[0m\u001b[0mbatch_buy\u001b[0m\u001b[1;33m(\u001b[0m\u001b[0mtickers\u001b[0m\u001b[1;33m,\u001b[0m \u001b[0mself\u001b[0m\u001b[1;33m.\u001b[0m\u001b[0mprice\u001b[0m\u001b[1;33m(\u001b[0m\u001b[0mtickers\u001b[0m\u001b[1;33m)\u001b[0m\u001b[1;33m,\u001b[0m \u001b[0mweights\u001b[0m\u001b[1;33m)\u001b[0m\u001b[1;33m\u001b[0m\u001b[0m\n\u001b[0;32m     64\u001b[0m \u001b[1;33m\u001b[0m\u001b[0m\n",
        "\u001b[1;31mValueError\u001b[0m: weights cannot sum to something greater than 1"
       ]
      }
     ],
     "prompt_number": 4
    },
    {
     "cell_type": "code",
     "collapsed": false,
     "input": [],
     "language": "python",
     "metadata": {},
     "outputs": []
    }
   ],
   "metadata": {}
  }
 ]
}